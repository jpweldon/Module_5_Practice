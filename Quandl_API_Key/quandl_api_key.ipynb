{
 "cells": [
  {
   "cell_type": "code",
   "execution_count": 9,
   "id": "6b78084d",
   "metadata": {},
   "outputs": [],
   "source": [
    "# Import the required libraries and dependencies\n",
    "\n",
    "# Import the os library\n",
    "import os\n",
    "\n",
    "# Import the load_dotenv module from the dotenv library\n",
    "from dotenv import load_dotenv\n"
   ]
  },
  {
   "cell_type": "code",
   "execution_count": 10,
   "id": "4c859324",
   "metadata": {},
   "outputs": [
    {
     "data": {
      "text/plain": [
       "True"
      ]
     },
     "execution_count": 10,
     "metadata": {},
     "output_type": "execute_result"
    }
   ],
   "source": [
    "# Load .env environment variables into the notebook\n",
    "load_dotenv()\n"
   ]
  },
  {
   "cell_type": "code",
   "execution_count": 11,
   "id": "68f3ae16",
   "metadata": {},
   "outputs": [],
   "source": [
    "# Use the Pandas os module and getenv function to retrieve the Quandl API key from the environment variable file.\n",
    "# Store the Quandl API key in a variable of the same name.\n",
    "quandl_api_key = os.getenv('QUANDL_API_KEY')\n"
   ]
  },
  {
   "cell_type": "code",
   "execution_count": 12,
   "id": "82f8fd46",
   "metadata": {},
   "outputs": [
    {
     "data": {
      "text/plain": [
       "str"
      ]
     },
     "execution_count": 12,
     "metadata": {},
     "output_type": "execute_result"
    }
   ],
   "source": [
    "# Using the type funcion, confirm that the Quandl API key is available for use in the notebook. \n",
    "type(quandl_api_key)\n"
   ]
  },
  {
   "cell_type": "code",
   "execution_count": null,
   "id": "7b89e04a",
   "metadata": {},
   "outputs": [],
   "source": []
  }
 ],
 "metadata": {
  "kernelspec": {
   "display_name": "Python 3",
   "language": "python",
   "name": "python3"
  },
  "language_info": {
   "codemirror_mode": {
    "name": "ipython",
    "version": 3
   },
   "file_extension": ".py",
   "mimetype": "text/x-python",
   "name": "python",
   "nbconvert_exporter": "python",
   "pygments_lexer": "ipython3",
   "version": "3.7.10"
  }
 },
 "nbformat": 4,
 "nbformat_minor": 5
}
