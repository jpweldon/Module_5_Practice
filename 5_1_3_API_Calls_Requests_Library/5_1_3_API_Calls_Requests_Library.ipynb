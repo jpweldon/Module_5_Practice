{
 "cells": [
  {
   "cell_type": "markdown",
   "id": "9184272f",
   "metadata": {},
   "source": [
    "Make an API call to the Free Crypto API. Make this call to retrieve the current pricing information for the Litecoin (LTC) cryptocurrency. Get the value that’s associated with the \"rank\" key by using bracket notation."
   ]
  },
  {
   "cell_type": "code",
   "execution_count": 1,
   "id": "e3d58a05",
   "metadata": {},
   "outputs": [
    {
     "name": "stdout",
     "output_type": "stream",
     "text": [
      "{\n",
      "    \"data\": {\n",
      "        \"2\": {\n",
      "            \"circulating_supply\": 66752415,\n",
      "            \"id\": 2,\n",
      "            \"last_updated\": 1627767861,\n",
      "            \"max_supply\": 84000000,\n",
      "            \"name\": \"Litecoin\",\n",
      "            \"quotes\": {\n",
      "                \"USD\": {\n",
      "                    \"market_cap\": 9695233847,\n",
      "                    \"percent_change_1h\": 0.51046589162889,\n",
      "                    \"percent_change_24h\": -0.17965315646777,\n",
      "                    \"percent_change_7d\": 16.9775676483021,\n",
      "                    \"percentage_change_1h\": 0.51046589162889,\n",
      "                    \"percentage_change_24h\": -0.17965315646777,\n",
      "                    \"percentage_change_7d\": 16.9775676483021,\n",
      "                    \"price\": 145.33,\n",
      "                    \"volume_24h\": 1505209463\n",
      "                }\n",
      "            },\n",
      "            \"rank\": 15,\n",
      "            \"symbol\": \"LTC\",\n",
      "            \"total_supply\": 66752415,\n",
      "            \"website_slug\": \"litecoin\"\n",
      "        }\n",
      "    },\n",
      "    \"metadata\": {\n",
      "        \"error\": null,\n",
      "        \"num_cryptocurrencies\": 3105,\n",
      "        \"timestamp\": 1627767861\n",
      "    }\n",
      "}\n"
     ]
    }
   ],
   "source": [
    "# Import the required libraries and dependencies\n",
    "import pandas as pd\n",
    "import requests\n",
    "import json\n",
    "\n",
    "# Set the Litecoin endpoint\n",
    "ltc_url = \"https://api.alternative.me/v2/ticker/Litecoin/\"\n",
    "\n",
    "# Fetch the current Litecoin price\n",
    "ltc_response = requests.get(ltc_url).json()\n",
    "\n",
    "# Display response data\n",
    "print(json.dumps(ltc_response, indent=4, sort_keys=True))"
   ]
  },
  {
   "cell_type": "code",
   "execution_count": 3,
   "id": "2d560c40",
   "metadata": {},
   "outputs": [
    {
     "name": "stdout",
     "output_type": "stream",
     "text": [
      "The symbol for Litecoin is LTC.\n",
      "The price for Litecoin is $145.33.\n"
     ]
    }
   ],
   "source": [
    "# Get the value for the Litecoin symnol\n",
    "ltc_symbol = ltc_response['data']['2']['symbol']\n",
    "print(f\"The symbol for Litecoin is {ltc_symbol}.\")\n",
    "\n",
    "# Get the value for the Litecoin price\n",
    "ltc_price = ltc_response['data']['2']['quotes']['USD']['price']\n",
    "print(f\"The price for Litecoin is ${ltc_price}.\")\n"
   ]
  },
  {
   "cell_type": "code",
   "execution_count": null,
   "id": "0ae24f42",
   "metadata": {},
   "outputs": [],
   "source": []
  }
 ],
 "metadata": {
  "kernelspec": {
   "display_name": "Python 3",
   "language": "python",
   "name": "python3"
  },
  "language_info": {
   "codemirror_mode": {
    "name": "ipython",
    "version": 3
   },
   "file_extension": ".py",
   "mimetype": "text/x-python",
   "name": "python",
   "nbconvert_exporter": "python",
   "pygments_lexer": "ipython3",
   "version": "3.7.10"
  }
 },
 "nbformat": 4,
 "nbformat_minor": 5
}
