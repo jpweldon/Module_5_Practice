{
 "cells": [
  {
   "cell_type": "markdown",
   "metadata": {},
   "source": [
    "# Big Mac Index\n",
    "\n",
    "In this activity, you’ll make three API calls to Quandl to find the cost of a Big Mac in three countries.\n",
    " \n",
    "Instructions:\n",
    "\n",
    "1. In the `Unsolved` folder for this activity, create an environment file (`.env`). Enter your QUANDL_API_KEY into this file.\n",
    "\n",
    "2. In the Jupyter notebook, load the environment variables into your environment file by using the `load_dotenv()` function.\n",
    "\n",
    "3. Get the Quandl API key from the environment variables, and store it in a Python variable named `quandl_api_key`. Then confirm that you successfully imported the API key by checking its type with the `type` function.\n",
    "\n",
    "4. Create two variables named `start_date` and `end_date` to define the period that you want to get the Big Mac index for. For this activity, you can set both dates to `2020-07-31`.\n",
    "\n",
    "5. Review the endpoint URLs that the starter notebook supplies. You’ll use these URLs to access the endpoints for the Big Mac index from three countries: the United States, Canada, and Mexico.\n",
    "\n",
    "> **Hint** The Big Mac Index database from Quandl includes data from different countries. Each country's dataset has a Quandl code with the following format:  ECONOMIST/BIGMAC_{COUNTRY}. This activity uses USA, CAN, and MEX for the country codes.\n",
    "\n",
    "6. Make the authenticated API request for each country by using the `request.get` function. Then print the response data by using the `json.dump` function. Analyze the data. Note that all the countries have the same output structure.\n",
    "\n",
    "7. Review the output from the Big Mac Index for the United States. Identify the key-value pairs that define the response object. Determine how to get the `dollar_price` and `dollar_ppp` data elements. Use this information to create a DataFrame with the data of these indicators for the United States, Canada, and Mexico. The following image shows how your DataFrame should appear:\n",
    "\n",
    "8. Use the DataFrame to create a bar chart that compares the `dollar_price` and the `dollar_ppp` of the United States, Canada, and Mexico.\n",
    "\n",
    "\n",
    "Reference:\n",
    "\n",
    "[Python requests function](https://pypi.org/project/requests/2.7.0/)\n",
    "\n",
    "[json.dumps function](https://www.geeksforgeeks.org/json-dumps-in-python/)\n",
    "\n",
    "[Quandl Big Mac Index Docs](https://www.quandl.com/data/ECONOMIST-The-Economist-Big-Mac-Index/documentation)\n",
    "\n",
    "[Quandl Big Mac Index Usage](https://www.quandl.com/data/ECONOMIST-The-Economist-Big-Mac-Index/usage/quickstart/api)\n"
   ]
  },
  {
   "cell_type": "markdown",
   "metadata": {},
   "source": [
    "## Import all required libraries and dependencies"
   ]
  },
  {
   "cell_type": "code",
   "execution_count": 2,
   "metadata": {},
   "outputs": [],
   "source": [
    "# Import required libraries and dependencies\n",
    "\n",
    "import pandas as pd\n",
    "import os\n",
    "import json\n",
    "import requests\n",
    "from dotenv import load_dotenv\n",
    "%matplotlib inline"
   ]
  },
  {
   "cell_type": "markdown",
   "metadata": {},
   "source": [
    "## Step 1: In the `Unsolved` folder for this activity, create an environment file (`.env`). Enter your QUANDL_API_KEY into this file."
   ]
  },
  {
   "cell_type": "markdown",
   "metadata": {},
   "source": [
    "## Step 2: load the environment variables into your environment file by using the `load_dotenv()` function."
   ]
  },
  {
   "cell_type": "code",
   "execution_count": 3,
   "metadata": {},
   "outputs": [
    {
     "data": {
      "text/plain": [
       "True"
      ]
     },
     "execution_count": 3,
     "metadata": {},
     "output_type": "execute_result"
    }
   ],
   "source": [
    "# Load .env enviroment variables into the notebook\n",
    "load_dotenv()\n"
   ]
  },
  {
   "cell_type": "markdown",
   "metadata": {},
   "source": [
    "## Step 3: Get the Quandl API key from the environment variables, and store it in a Python variable named `quandl_api_key`. Then confirm that you successfully imported the API key by checking its type with the `type` function."
   ]
  },
  {
   "cell_type": "code",
   "execution_count": 4,
   "metadata": {},
   "outputs": [
    {
     "data": {
      "text/plain": [
       "str"
      ]
     },
     "execution_count": 4,
     "metadata": {},
     "output_type": "execute_result"
    }
   ],
   "source": [
    "# Get the API key from the environment variable and store as Python variable\n",
    "quandl_api_key = os.getenv('QUANDL_API_KEY')\n",
    "\n",
    "# Using the type funcion, confirm that the Quandl API key is available for use in the notebook\n",
    "type(quandl_api_key)\n"
   ]
  },
  {
   "cell_type": "markdown",
   "metadata": {},
   "source": [
    "## Step 4: Create two variables named `start_date` and `end_date` to define the period that you want to get the Big Mac index for. For this activity, you can set both dates to `2020-07-31`."
   ]
  },
  {
   "cell_type": "code",
   "execution_count": 15,
   "metadata": {},
   "outputs": [],
   "source": [
    "# Create `start_date` and `end_date` variables\n",
    "# Both should hold the same date of `2020-07-31`\n",
    "start_date = \"2020-07-31\"\n",
    "end_date = \"2020-07-31\"\n"
   ]
  },
  {
   "cell_type": "markdown",
   "metadata": {},
   "source": [
    "## Step 5: Review the endpoint URLs that the starter notebook supplies. You’ll use these URLs to access the endpoints for the Big Mac index from three countries: the United States, Canada, and Mexico."
   ]
  },
  {
   "cell_type": "code",
   "execution_count": 16,
   "metadata": {},
   "outputs": [],
   "source": [
    "big_mac_usa = \"https://www.quandl.com/api/v3/datasets/ECONOMIST/BIGMAC_USA?start_date=\" + start_date + \"&end_date=\" + end_date + \"&api_key=\" + quandl_api_key\n",
    "    \n",
    "big_mac_can = \"https://www.quandl.com/api/v3/datasets/ECONOMIST/BIGMAC_CAN?start_date=\" + start_date + \"&end_date=\" + end_date + \"&api_key=\" + quandl_api_key\n",
    "\n",
    "big_mac_mex = \"https://www.quandl.com/api/v3/datasets/ECONOMIST/BIGMAC_MEX?start_date=\" + start_date + \"&end_date=\" + end_date + \"&api_key=\" + quandl_api_key"
   ]
  },
  {
   "cell_type": "markdown",
   "metadata": {},
   "source": [
    "## Step 6: Make the authenticated API request for each country by using the `request.get` function. Then print the response data by using the `json.dumps` function. Analyze the data. Note that all the countries have the same output structure."
   ]
  },
  {
   "cell_type": "code",
   "execution_count": 17,
   "metadata": {},
   "outputs": [
    {
     "name": "stdout",
     "output_type": "stream",
     "text": [
      "{\n",
      "    \"dataset\": {\n",
      "        \"collapse\": null,\n",
      "        \"column_index\": null,\n",
      "        \"column_names\": [\n",
      "            \"Date\",\n",
      "            \"local_price\",\n",
      "            \"dollar_ex\",\n",
      "            \"dollar_price\",\n",
      "            \"dollar_ppp\",\n",
      "            \"dollar_valuation\",\n",
      "            \"dollar_adj_valuation\",\n",
      "            \"euro_adj_valuation\",\n",
      "            \"sterling_adj_valuation\",\n",
      "            \"yen_adj_valuation\",\n",
      "            \"yuan_adj_valuation\"\n",
      "        ],\n",
      "        \"data\": [\n",
      "            [\n",
      "                \"2020-07-31\",\n",
      "                5.71,\n",
      "                1.0,\n",
      "                5.71,\n",
      "                1.0,\n",
      "                0.0,\n",
      "                0.0,\n",
      "                -1.9,\n",
      "                12.2,\n",
      "                27.900000000000002,\n",
      "                7.000000000000001\n",
      "            ]\n",
      "        ],\n",
      "        \"database_code\": \"ECONOMIST\",\n",
      "        \"database_id\": 5330,\n",
      "        \"dataset_code\": \"BIGMAC_USA\",\n",
      "        \"description\": \"The Big Mac Index is an informal measure of currency exchange rates at ppp. It measures their value against a similar basket of goods and services, in this case a Big Mac. Differing prices at market exchange rates would imply that one currency is under or overvalued.\",\n",
      "        \"end_date\": \"2020-07-31\",\n",
      "        \"frequency\": \"daily\",\n",
      "        \"id\": 9776656,\n",
      "        \"limit\": null,\n",
      "        \"name\": \"Big Mac Index - United States\",\n",
      "        \"newest_available_date\": \"2021-01-31\",\n",
      "        \"oldest_available_date\": \"2000-04-30\",\n",
      "        \"order\": null,\n",
      "        \"premium\": false,\n",
      "        \"refreshed_at\": \"2021-07-15T00:00:30.284Z\",\n",
      "        \"start_date\": \"2020-07-31\",\n",
      "        \"transform\": null,\n",
      "        \"type\": \"Time Series\"\n",
      "    }\n",
      "}\n"
     ]
    }
   ],
   "source": [
    "# Make the API call for the USD Big Mac Index information using requests.get\n",
    "response_usa= requests.get(big_mac_usa).json()\n",
    "\n",
    "# Print the response data using the json.dumps function.\n",
    "print(json.dumps(response_usa, indent=4, sort_keys=True))\n"
   ]
  },
  {
   "cell_type": "code",
   "execution_count": 18,
   "metadata": {},
   "outputs": [
    {
     "name": "stdout",
     "output_type": "stream",
     "text": [
      "{\n",
      "    \"dataset\": {\n",
      "        \"collapse\": null,\n",
      "        \"column_index\": null,\n",
      "        \"column_names\": [\n",
      "            \"Date\",\n",
      "            \"local_price\",\n",
      "            \"dollar_ex\",\n",
      "            \"dollar_price\",\n",
      "            \"dollar_ppp\",\n",
      "            \"dollar_valuation\",\n",
      "            \"dollar_adj_valuation\",\n",
      "            \"euro_adj_valuation\",\n",
      "            \"sterling_adj_valuation\",\n",
      "            \"yen_adj_valuation\",\n",
      "            \"yuan_adj_valuation\"\n",
      "        ],\n",
      "        \"data\": [\n",
      "            [\n",
      "                \"2020-07-31\",\n",
      "                6.88,\n",
      "                1.3552,\n",
      "                5.0767414403778,\n",
      "                1.2049036777583177,\n",
      "                -11.09,\n",
      "                2.3,\n",
      "                0.3,\n",
      "                14.7,\n",
      "                30.8,\n",
      "                9.4\n",
      "            ]\n",
      "        ],\n",
      "        \"database_code\": \"ECONOMIST\",\n",
      "        \"database_id\": 5330,\n",
      "        \"dataset_code\": \"BIGMAC_CAN\",\n",
      "        \"description\": \"The Big Mac Index is an informal measure of currency exchange rates at ppp. It measures their value against a similar basket of goods and services, in this case a Big Mac. Differing prices at market exchange rates would imply that one currency is under or overvalued.\",\n",
      "        \"end_date\": \"2020-07-31\",\n",
      "        \"frequency\": \"daily\",\n",
      "        \"id\": 9776618,\n",
      "        \"limit\": null,\n",
      "        \"name\": \"Big Mac Index - Canada\",\n",
      "        \"newest_available_date\": \"2021-01-31\",\n",
      "        \"oldest_available_date\": \"2000-04-30\",\n",
      "        \"order\": null,\n",
      "        \"premium\": false,\n",
      "        \"refreshed_at\": \"2021-07-15T00:00:30.284Z\",\n",
      "        \"start_date\": \"2020-07-31\",\n",
      "        \"transform\": null,\n",
      "        \"type\": \"Time Series\"\n",
      "    }\n",
      "}\n"
     ]
    }
   ],
   "source": [
    "# Make the API call for the CAN Big Mac Index information using requests.get\n",
    "response_can = requests.get(big_mac_can).json()\n",
    "\n",
    "# Print the response data using the json.dumps function.\n",
    "print(json.dumps(response_can, indent=4, sort_keys=True))\n"
   ]
  },
  {
   "cell_type": "code",
   "execution_count": 19,
   "metadata": {},
   "outputs": [
    {
     "name": "stdout",
     "output_type": "stream",
     "text": [
      "{\n",
      "    \"dataset\": {\n",
      "        \"collapse\": null,\n",
      "        \"column_index\": null,\n",
      "        \"column_names\": [\n",
      "            \"Date\",\n",
      "            \"local_price\",\n",
      "            \"dollar_ex\",\n",
      "            \"dollar_price\",\n",
      "            \"dollar_ppp\",\n",
      "            \"dollar_valuation\",\n",
      "            \"dollar_adj_valuation\",\n",
      "            \"euro_adj_valuation\",\n",
      "            \"sterling_adj_valuation\",\n",
      "            \"yen_adj_valuation\",\n",
      "            \"yuan_adj_valuation\"\n",
      "        ],\n",
      "        \"data\": [\n",
      "            [\n",
      "                \"2020-07-31\",\n",
      "                50.0,\n",
      "                22.436,\n",
      "                2.2285612408629,\n",
      "                8.75656742556918,\n",
      "                -60.971,\n",
      "                -33.0,\n",
      "                -34.300000000000004,\n",
      "                -24.8,\n",
      "                -14.2,\n",
      "                -28.299999999999997\n",
      "            ]\n",
      "        ],\n",
      "        \"database_code\": \"ECONOMIST\",\n",
      "        \"database_id\": 5330,\n",
      "        \"dataset_code\": \"BIGMAC_MEX\",\n",
      "        \"description\": \"The Big Mac Index is an informal measure of currency exchange rates at ppp. It measures their value against a similar basket of goods and services, in this case a Big Mac. Differing prices at market exchange rates would imply that one currency is under or overvalued.\",\n",
      "        \"end_date\": \"2020-07-31\",\n",
      "        \"frequency\": \"daily\",\n",
      "        \"id\": 9776636,\n",
      "        \"limit\": null,\n",
      "        \"name\": \"Big Mac Index - Mexico\",\n",
      "        \"newest_available_date\": \"2021-01-31\",\n",
      "        \"oldest_available_date\": \"2000-04-30\",\n",
      "        \"order\": null,\n",
      "        \"premium\": false,\n",
      "        \"refreshed_at\": \"2021-07-15T00:00:30.284Z\",\n",
      "        \"start_date\": \"2020-07-31\",\n",
      "        \"transform\": null,\n",
      "        \"type\": \"Time Series\"\n",
      "    }\n",
      "}\n"
     ]
    }
   ],
   "source": [
    "# Make the API call for the MEX Big Mac Index information using requests.get\n",
    "response_mex = requests.get(big_mac_mex).json()\n",
    "\n",
    "# Print the response data using the json.dumps function.\n",
    "print(json.dumps(response_mex, indent=4, sort_keys=True))\n"
   ]
  },
  {
   "cell_type": "markdown",
   "metadata": {},
   "source": [
    "## Step 7: Review the output from the Big Mac Index for the United States. Identify the key-value pairs that define the response object. Determine how to get the `dollar_price` and `dollar_ppp` data elements. Use this information to create a DataFrame with the data of these indicators for the United States, Canada, and Mexico. "
   ]
  },
  {
   "cell_type": "code",
   "execution_count": 24,
   "metadata": {},
   "outputs": [
    {
     "data": {
      "text/html": [
       "<div>\n",
       "<style scoped>\n",
       "    .dataframe tbody tr th:only-of-type {\n",
       "        vertical-align: middle;\n",
       "    }\n",
       "\n",
       "    .dataframe tbody tr th {\n",
       "        vertical-align: top;\n",
       "    }\n",
       "\n",
       "    .dataframe thead th {\n",
       "        text-align: right;\n",
       "    }\n",
       "</style>\n",
       "<table border=\"1\" class=\"dataframe\">\n",
       "  <thead>\n",
       "    <tr style=\"text-align: right;\">\n",
       "      <th></th>\n",
       "      <th>dollar_price</th>\n",
       "      <th>dollar_ppp</th>\n",
       "    </tr>\n",
       "  </thead>\n",
       "  <tbody>\n",
       "    <tr>\n",
       "      <th>USA</th>\n",
       "      <td>5.710000</td>\n",
       "      <td>1.000000</td>\n",
       "    </tr>\n",
       "    <tr>\n",
       "      <th>Canada</th>\n",
       "      <td>5.076741</td>\n",
       "      <td>1.204904</td>\n",
       "    </tr>\n",
       "    <tr>\n",
       "      <th>Mexico</th>\n",
       "      <td>2.228561</td>\n",
       "      <td>8.756567</td>\n",
       "    </tr>\n",
       "  </tbody>\n",
       "</table>\n",
       "</div>"
      ],
      "text/plain": [
       "        dollar_price  dollar_ppp\n",
       "USA         5.710000    1.000000\n",
       "Canada      5.076741    1.204904\n",
       "Mexico      2.228561    8.756567"
      ]
     },
     "execution_count": 24,
     "metadata": {},
     "output_type": "execute_result"
    }
   ],
   "source": [
    "# Set the Big Mac Index data to create a DataFrame\n",
    "big_mac_index_data = {\n",
    "    \"dollar_price\": [\n",
    "        response_usa[\"dataset\"][\"data\"][0][3],\n",
    "        response_can[\"dataset\"][\"data\"][0][3],\n",
    "        response_mex[\"dataset\"][\"data\"][0][3]\n",
    "    ],\n",
    "    \"dollar_ppp\": [\n",
    "        response_usa[\"dataset\"][\"data\"][0][4],\n",
    "        response_can[\"dataset\"][\"data\"][0][4],\n",
    "        response_mex[\"dataset\"][\"data\"][0][4]\n",
    "    ]\n",
    "}\n",
    "\n",
    "# Create the Big Mac Index DataFrame\n",
    "big_mac_index_df = pd.DataFrame(big_mac_index_data, index=[\"USA\", \"Canada\", \"Mexico\"])\n",
    "\n",
    "# Diplay the DataFrame data\n",
    "big_mac_index_df\n"
   ]
  },
  {
   "cell_type": "markdown",
   "metadata": {},
   "source": [
    "### Step 8: Use the DataFrame to create a bar chart that compares the `dollar_price` and the `dollar_ppp` of the United States, Canada, and Mexico."
   ]
  },
  {
   "cell_type": "code",
   "execution_count": 31,
   "metadata": {},
   "outputs": [
    {
     "data": {
      "text/plain": [
       "<AxesSubplot:title={'center':'Big Mac Index - USA, Canada, and Mexico'}>"
      ]
     },
     "execution_count": 31,
     "metadata": {},
     "output_type": "execute_result"
    },
    {
     "data": {
      "image/png": "[encoded data removed]",
      "text/plain": [
       "<Figure size 1080x720 with 1 Axes>"
      ]
     },
     "metadata": {
      "needs_background": "light"
     },
     "output_type": "display_data"
    }
   ],
   "source": [
    "# Create a bar chart to analyze the Big Mac Index for the United States, \n",
    "# Canada and Mexico\n",
    "# Be sure to include a title and adjust the figure size.\n",
    "big_mac_index_df.plot.bar(figsize=(15,10), title='Big Mac Index - USA, Canada, and Mexico', rot=0)\n"
   ]
  },
  {
   "cell_type": "code",
   "execution_count": null,
   "metadata": {},
   "outputs": [],
   "source": []
  },
  {
   "cell_type": "code",
   "execution_count": null,
   "metadata": {},
   "outputs": [],
   "source": []
  }
 ],
 "metadata": {
  "kernelspec": {
   "display_name": "dev",
   "language": "python",
   "name": "dev"
  },
  "language_info": {
   "codemirror_mode": {
    "name": "ipython",
    "version": 3
   },
   "file_extension": ".py",
   "mimetype": "text/x-python",
   "name": "python",
   "nbconvert_exporter": "python",
   "pygments_lexer": "ipython3",
   "version": "3.7.10"
  }
 },
 "nbformat": 4,
 "nbformat_minor": 4
}
