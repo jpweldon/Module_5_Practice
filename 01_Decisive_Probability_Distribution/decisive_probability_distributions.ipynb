{
 "cells": [
  {
   "cell_type": "markdown",
   "metadata": {},
   "source": [
    "# Decisive Probability Distributions\n",
    "\n",
    "In this activity, you’ll use the Alpaca API to gather pricing information for six stocks. Then, you’ll use this information to plot probability distributions for the daily returns of the stocks. Finally, you’ll determine the most and the least volatile stocks.\n",
    "Instructions:\n",
    "\n",
    "1. Create an environment file (`.env`) in the root of the `Unsolved` folder. This file will hold your Alpaca API and secret keys.\n",
    "\n",
    "2. Load the Alpaca API and secret keys into `decisive_probability_distributions.ipynb`, and set the values equal to variables of the same name.\n",
    "\n",
    "3. Create the Alpaca API `REST` object by calling the Alpaca `tradeapi.REST` function and setting `alpaca_api_key`, `alpaca_secret_key`, and `api_version`.\n",
    "\n",
    "4. Use the Alpaca SDK to make an API call that gets one year of daily stock information ( 2019-05-01 to 2020-05-01) for the following stock tickers:\n",
    "\n",
    "    - `SPY` (SPDR S&P 500 ETF Trust)\n",
    "\n",
    "    - `LUV` (Southwest Airlines)\n",
    "\n",
    "    - `DIS` (Disney) \n",
    "\n",
    "    - `AAPL` (Apple)\n",
    "\n",
    "    - `SBUX` (Starbucks)\n",
    "\n",
    "    - `ZM` (Zoom)\n",
    "\n",
    "> **Hint** Remember to set the tickers, time frame, start and end dates (‘2019-05-01’ and ‘2020-05-01’) and the number of rows returned. Then use the Alpaca `get_barset` function to make the API call. Be sure to set the `df` property at the end of the `get_barset` function so that the API response is returned as a DataFrame.\n",
    "\n",
    "5. Create a new DataFrame that holds the closing prices of each stock.\n",
    "\n",
    "6. Generate a daily returns DataFrame that’s based on the closing prices of each stock.\n",
    "\n",
    "7. Generate the summary statistics for the daily returns DataFrame. This provides your first review of the distribution information for your stocks.\n",
    "\n",
    "8. Visualize the distribution of the daily returns DataFrame by creating a histogram plot and a density plot.\n",
    "\n",
    "> **Hint** Generate only two plots. Both the histogram and the density plot will show the data for all six stocks.\n",
    "\n",
    "\n",
    "References:\n",
    "\n",
    "[Alpaca API Docs](https://alpaca.markets/docs/api-documentation/)\n",
    "\n",
    "[Pandas Histogram plot](https://pandas.pydata.org/pandas-docs/stable/reference/api/pandas.DataFrame.hist.html)\n",
    "\n",
    "[Pandas Density plot](https://pandas.pydata.org/pandas-docs/stable/reference/api/pandas.DataFrame.plot.density.html)"
   ]
  },
  {
   "cell_type": "markdown",
   "metadata": {},
   "source": [
    "## Import the required libraries and dependencies"
   ]
  },
  {
   "cell_type": "code",
   "execution_count": 1,
   "metadata": {
    "tags": []
   },
   "outputs": [],
   "source": [
    "# Import the required libraries and dependencies\n",
    "import os\n",
    "import requests\n",
    "import pandas as pd\n",
    "from dotenv import load_dotenv\n",
    "import alpaca_trade_api as tradeapi\n",
    "%matplotlib inline"
   ]
  },
  {
   "cell_type": "markdown",
   "metadata": {},
   "source": [
    "## Step 1: Create your `.env` file at the root of your Unsolved folder. It should include your Alpaca API and secret keys. "
   ]
  },
  {
   "cell_type": "markdown",
   "metadata": {},
   "source": [
    "## Step 2: Load the Alpaca API and secret keys into `decisive_probability_distributions.ipynb`, and set the values equal to variables of the same name.\n",
    "\n",
    "* Load the environment variable by calling the `load_dotenv()` function.\n",
    "* Set the value of the variables `alpaca_api_key` and `alpaca_secret_key` equal to their respective environment variables. \n",
    "* Confirm the variables are available by checking the `type` of each. "
   ]
  },
  {
   "cell_type": "code",
   "execution_count": 2,
   "metadata": {},
   "outputs": [
    {
     "data": {
      "text/plain": [
       "True"
      ]
     },
     "execution_count": 2,
     "metadata": {},
     "output_type": "execute_result"
    }
   ],
   "source": [
    "# Load the environment variables by calling the load_dotenv function\n",
    "load_dotenv()\n"
   ]
  },
  {
   "cell_type": "code",
   "execution_count": 3,
   "metadata": {},
   "outputs": [
    {
     "data": {
      "text/plain": [
       "str"
      ]
     },
     "metadata": {},
     "output_type": "display_data"
    },
    {
     "data": {
      "text/plain": [
       "str"
      ]
     },
     "metadata": {},
     "output_type": "display_data"
    }
   ],
   "source": [
    "# Set Alpaca API key and secret by calling the os.getenv function and referencing the environment variable names\n",
    "# Set each environment variable to a notebook variable of the same name\n",
    "alpaca_api_key = os.getenv(\"ALPACA_API_KEY\")\n",
    "alpaca_secret_key = os.getenv(\"ALPACA_SECRET_KEY\")\n",
    "\n",
    "# Check the values were imported correctly by evaluating the type of each\n",
    "display(type(alpaca_api_key))\n",
    "display(type(alpaca_secret_key))\n",
    "    "
   ]
  },
  {
   "cell_type": "markdown",
   "metadata": {},
   "source": [
    "## Step 3: Create the Alpaca API `REST` object by calling the Alpaca `tradeapi.REST` function and setting `alpaca_api_key`, `alpaca_secret_key`, and `api_version`."
   ]
  },
  {
   "cell_type": "code",
   "execution_count": 4,
   "metadata": {
    "tags": []
   },
   "outputs": [],
   "source": [
    "# Create your Alpaca API REST object by calling Alpaca's tradeapi.REST function\n",
    "# Set the parameters to your alpaca_api_key, alpaca_secret_key and api_version=\"v2\" \n",
    "alpaca = tradeapi.REST(\n",
    "    alpaca_api_key,\n",
    "    alpaca_secret_key,\n",
    "    api_version=\"v2\")\n"
   ]
  },
  {
   "cell_type": "markdown",
   "metadata": {},
   "source": [
    "## Step 4: Use the Alpaca SDK to make an API call that gets one year of daily stock information ( 2019-05-01 to 2020-05-01) for the following stock tickers: SPY, LUV, DIS, AAPL, SBUX, and ZM. \n",
    "\n",
    "* Create the list for the required `tickers`\n",
    "* Set the values for `start_date` and `end_date` using the `pd.Timestamp` function. The dates should be 2019-05-01 through 2020-05-01.\n",
    "* Set the `timeframe` value to 1 day.\n",
    "* Create the `portfolio_prices_df` DataFrame by setting it equal to the `alpaca.get_barset` function. "
   ]
  },
  {
   "cell_type": "code",
   "execution_count": 5,
   "metadata": {},
   "outputs": [
    {
     "data": {
      "text/plain": [
       "['SPY', 'LUV', 'DIS', 'AAPL', 'SBUX', 'ZM']"
      ]
     },
     "execution_count": 5,
     "metadata": {},
     "output_type": "execute_result"
    }
   ],
   "source": [
    "# Create the list for the required tickers\n",
    "tickers = [\"SPY\", \"LUV\", \"DIS\", \"AAPL\", \"SBUX\", \"ZM\"]\n",
    "tickers\n"
   ]
  },
  {
   "cell_type": "code",
   "execution_count": 6,
   "metadata": {},
   "outputs": [
    {
     "name": "stdout",
     "output_type": "stream",
     "text": [
      "2019-05-01T00:00:00-04:00\n",
      "2020-05-01T00:00:00-04:00\n"
     ]
    }
   ],
   "source": [
    "# Set the values for start_date and end_date using the pd.Timestamp function\n",
    "# The start and end data should be 2019-05-01 to 2020-05-01\n",
    "# Set the parameter tz to \"America/New_York\", \n",
    "# Set this all to the ISO format by calling the isoformat function \n",
    "start_date = pd.Timestamp(\"2019-05-01\", tz=\"America/New_York\").isoformat()\n",
    "end_date = pd.Timestamp(\"2020-05-01\", tz=\"America/New_York\").isoformat()\n",
    "print(start_date)\n",
    "print(end_date)\n"
   ]
  },
  {
   "cell_type": "code",
   "execution_count": 7,
   "metadata": {},
   "outputs": [
    {
     "name": "stdout",
     "output_type": "stream",
     "text": [
      "1D\n",
      "1000\n"
     ]
    }
   ],
   "source": [
    "# Set timeframe to one day (1D)\n",
    "timeframe = '1D'\n",
    "print(timeframe)\n",
    "\n",
    "# Set number of rows to 1000 to retrieve the maximum amount of rows\n",
    "limit_rows = 1000\n",
    "print(limit_rows)\n"
   ]
  },
  {
   "cell_type": "code",
   "execution_count": 8,
   "metadata": {},
   "outputs": [
    {
     "data": {
      "text/html": [
       "<div>\n",
       "<style scoped>\n",
       "    .dataframe tbody tr th:only-of-type {\n",
       "        vertical-align: middle;\n",
       "    }\n",
       "\n",
       "    .dataframe tbody tr th {\n",
       "        vertical-align: top;\n",
       "    }\n",
       "\n",
       "    .dataframe thead tr th {\n",
       "        text-align: left;\n",
       "    }\n",
       "\n",
       "    .dataframe thead tr:last-of-type th {\n",
       "        text-align: right;\n",
       "    }\n",
       "</style>\n",
       "<table border=\"1\" class=\"dataframe\">\n",
       "  <thead>\n",
       "    <tr>\n",
       "      <th></th>\n",
       "      <th colspan=\"5\" halign=\"left\">AAPL</th>\n",
       "      <th colspan=\"5\" halign=\"left\">DIS</th>\n",
       "      <th>...</th>\n",
       "      <th colspan=\"5\" halign=\"left\">SPY</th>\n",
       "      <th colspan=\"5\" halign=\"left\">ZM</th>\n",
       "    </tr>\n",
       "    <tr>\n",
       "      <th></th>\n",
       "      <th>open</th>\n",
       "      <th>high</th>\n",
       "      <th>low</th>\n",
       "      <th>close</th>\n",
       "      <th>volume</th>\n",
       "      <th>open</th>\n",
       "      <th>high</th>\n",
       "      <th>low</th>\n",
       "      <th>close</th>\n",
       "      <th>volume</th>\n",
       "      <th>...</th>\n",
       "      <th>open</th>\n",
       "      <th>high</th>\n",
       "      <th>low</th>\n",
       "      <th>close</th>\n",
       "      <th>volume</th>\n",
       "      <th>open</th>\n",
       "      <th>high</th>\n",
       "      <th>low</th>\n",
       "      <th>close</th>\n",
       "      <th>volume</th>\n",
       "    </tr>\n",
       "    <tr>\n",
       "      <th>time</th>\n",
       "      <th></th>\n",
       "      <th></th>\n",
       "      <th></th>\n",
       "      <th></th>\n",
       "      <th></th>\n",
       "      <th></th>\n",
       "      <th></th>\n",
       "      <th></th>\n",
       "      <th></th>\n",
       "      <th></th>\n",
       "      <th></th>\n",
       "      <th></th>\n",
       "      <th></th>\n",
       "      <th></th>\n",
       "      <th></th>\n",
       "      <th></th>\n",
       "      <th></th>\n",
       "      <th></th>\n",
       "      <th></th>\n",
       "      <th></th>\n",
       "      <th></th>\n",
       "    </tr>\n",
       "  </thead>\n",
       "  <tbody>\n",
       "    <tr>\n",
       "      <th>2019-05-01 00:00:00-04:00</th>\n",
       "      <td>209.88</td>\n",
       "      <td>215.3100</td>\n",
       "      <td>209.230</td>\n",
       "      <td>210.52</td>\n",
       "      <td>57751414</td>\n",
       "      <td>137.49</td>\n",
       "      <td>138.17</td>\n",
       "      <td>136.235</td>\n",
       "      <td>136.32</td>\n",
       "      <td>7588692</td>\n",
       "      <td>...</td>\n",
       "      <td>294.72</td>\n",
       "      <td>294.95</td>\n",
       "      <td>291.80</td>\n",
       "      <td>291.84</td>\n",
       "      <td>59432706</td>\n",
       "      <td>72.72</td>\n",
       "      <td>76.95</td>\n",
       "      <td>70.8159</td>\n",
       "      <td>72.55</td>\n",
       "      <td>3226692</td>\n",
       "    </tr>\n",
       "    <tr>\n",
       "      <th>2019-05-02 00:00:00-04:00</th>\n",
       "      <td>209.84</td>\n",
       "      <td>212.6500</td>\n",
       "      <td>208.130</td>\n",
       "      <td>209.17</td>\n",
       "      <td>29014844</td>\n",
       "      <td>135.38</td>\n",
       "      <td>135.69</td>\n",
       "      <td>132.380</td>\n",
       "      <td>134.19</td>\n",
       "      <td>14963432</td>\n",
       "      <td>...</td>\n",
       "      <td>291.68</td>\n",
       "      <td>292.70</td>\n",
       "      <td>289.52</td>\n",
       "      <td>291.27</td>\n",
       "      <td>59209780</td>\n",
       "      <td>72.75</td>\n",
       "      <td>75.89</td>\n",
       "      <td>69.6912</td>\n",
       "      <td>75.58</td>\n",
       "      <td>2441372</td>\n",
       "    </tr>\n",
       "    <tr>\n",
       "      <th>2019-05-03 00:00:00-04:00</th>\n",
       "      <td>210.74</td>\n",
       "      <td>211.8400</td>\n",
       "      <td>210.230</td>\n",
       "      <td>211.78</td>\n",
       "      <td>17987793</td>\n",
       "      <td>135.22</td>\n",
       "      <td>135.31</td>\n",
       "      <td>133.780</td>\n",
       "      <td>134.28</td>\n",
       "      <td>8073628</td>\n",
       "      <td>...</td>\n",
       "      <td>292.82</td>\n",
       "      <td>294.34</td>\n",
       "      <td>292.56</td>\n",
       "      <td>294.02</td>\n",
       "      <td>45416907</td>\n",
       "      <td>75.09</td>\n",
       "      <td>80.25</td>\n",
       "      <td>75.0000</td>\n",
       "      <td>79.10</td>\n",
       "      <td>2537793</td>\n",
       "    </tr>\n",
       "    <tr>\n",
       "      <th>2019-05-06 00:00:00-04:00</th>\n",
       "      <td>204.29</td>\n",
       "      <td>208.8400</td>\n",
       "      <td>203.500</td>\n",
       "      <td>208.60</td>\n",
       "      <td>28949691</td>\n",
       "      <td>132.54</td>\n",
       "      <td>135.33</td>\n",
       "      <td>132.300</td>\n",
       "      <td>135.05</td>\n",
       "      <td>8946397</td>\n",
       "      <td>...</td>\n",
       "      <td>289.25</td>\n",
       "      <td>293.31</td>\n",
       "      <td>288.90</td>\n",
       "      <td>292.87</td>\n",
       "      <td>75426654</td>\n",
       "      <td>75.01</td>\n",
       "      <td>80.79</td>\n",
       "      <td>74.5000</td>\n",
       "      <td>78.13</td>\n",
       "      <td>2026295</td>\n",
       "    </tr>\n",
       "    <tr>\n",
       "      <th>2019-05-07 00:00:00-04:00</th>\n",
       "      <td>205.88</td>\n",
       "      <td>207.4175</td>\n",
       "      <td>200.825</td>\n",
       "      <td>202.86</td>\n",
       "      <td>34328425</td>\n",
       "      <td>135.35</td>\n",
       "      <td>135.97</td>\n",
       "      <td>132.760</td>\n",
       "      <td>133.47</td>\n",
       "      <td>9737952</td>\n",
       "      <td>...</td>\n",
       "      <td>290.15</td>\n",
       "      <td>290.81</td>\n",
       "      <td>285.81</td>\n",
       "      <td>288.04</td>\n",
       "      <td>118960368</td>\n",
       "      <td>77.85</td>\n",
       "      <td>78.05</td>\n",
       "      <td>73.2500</td>\n",
       "      <td>73.32</td>\n",
       "      <td>1925361</td>\n",
       "    </tr>\n",
       "  </tbody>\n",
       "</table>\n",
       "<p>5 rows × 30 columns</p>\n",
       "</div>"
      ],
      "text/plain": [
       "                             AAPL                                       \\\n",
       "                             open      high      low   close    volume   \n",
       "time                                                                     \n",
       "2019-05-01 00:00:00-04:00  209.88  215.3100  209.230  210.52  57751414   \n",
       "2019-05-02 00:00:00-04:00  209.84  212.6500  208.130  209.17  29014844   \n",
       "2019-05-03 00:00:00-04:00  210.74  211.8400  210.230  211.78  17987793   \n",
       "2019-05-06 00:00:00-04:00  204.29  208.8400  203.500  208.60  28949691   \n",
       "2019-05-07 00:00:00-04:00  205.88  207.4175  200.825  202.86  34328425   \n",
       "\n",
       "                              DIS                                     ...  \\\n",
       "                             open    high      low   close    volume  ...   \n",
       "time                                                                  ...   \n",
       "2019-05-01 00:00:00-04:00  137.49  138.17  136.235  136.32   7588692  ...   \n",
       "2019-05-02 00:00:00-04:00  135.38  135.69  132.380  134.19  14963432  ...   \n",
       "2019-05-03 00:00:00-04:00  135.22  135.31  133.780  134.28   8073628  ...   \n",
       "2019-05-06 00:00:00-04:00  132.54  135.33  132.300  135.05   8946397  ...   \n",
       "2019-05-07 00:00:00-04:00  135.35  135.97  132.760  133.47   9737952  ...   \n",
       "\n",
       "                              SPY                                        ZM  \\\n",
       "                             open    high     low   close     volume   open   \n",
       "time                                                                          \n",
       "2019-05-01 00:00:00-04:00  294.72  294.95  291.80  291.84   59432706  72.72   \n",
       "2019-05-02 00:00:00-04:00  291.68  292.70  289.52  291.27   59209780  72.75   \n",
       "2019-05-03 00:00:00-04:00  292.82  294.34  292.56  294.02   45416907  75.09   \n",
       "2019-05-06 00:00:00-04:00  289.25  293.31  288.90  292.87   75426654  75.01   \n",
       "2019-05-07 00:00:00-04:00  290.15  290.81  285.81  288.04  118960368  77.85   \n",
       "\n",
       "                                                           \n",
       "                            high      low  close   volume  \n",
       "time                                                       \n",
       "2019-05-01 00:00:00-04:00  76.95  70.8159  72.55  3226692  \n",
       "2019-05-02 00:00:00-04:00  75.89  69.6912  75.58  2441372  \n",
       "2019-05-03 00:00:00-04:00  80.25  75.0000  79.10  2537793  \n",
       "2019-05-06 00:00:00-04:00  80.79  74.5000  78.13  2026295  \n",
       "2019-05-07 00:00:00-04:00  78.05  73.2500  73.32  1925361  \n",
       "\n",
       "[5 rows x 30 columns]"
      ]
     },
     "execution_count": 8,
     "metadata": {},
     "output_type": "execute_result"
    }
   ],
   "source": [
    "# Use the Alpaca get_barset function to gather the price information for each ticker\n",
    "# Include the function parameters: tickers, timeframe, start, end, and limit\n",
    "# Be sure to call the df property to ensure that the returned information is set as a DataFrame\n",
    "prices_df = alpaca.get_barset(\n",
    "    tickers,\n",
    "    timeframe,\n",
    "    start=start_date,\n",
    "    end=end_date,\n",
    "    limit=limit_rows\n",
    ").df\n",
    "\n",
    "# Review the first five rows of the resulting DataFrame \n",
    "prices_df.head()\n"
   ]
  },
  {
   "cell_type": "markdown",
   "metadata": {},
   "source": [
    "## Step 5: Create a new DataFrame that holds the closing prices of each stock.\n",
    "\n",
    "1. Create a `closing_prices_df` DataFrame.\n",
    "2. Using a for-loop, for every `ticker` in the `tickers` list, select the `close` price for each ticker in the `prices_df` Dataframe. That expression will be set equal to  the new `closing_prices_df` for the same `ticker`.\n",
    "3. For the new closing_prices_df DataFrame, keep only the date component (drop the time component).\n",
    "4. View the `closing_prices_df` DataFrame. "
   ]
  },
  {
   "cell_type": "code",
   "execution_count": 9,
   "metadata": {},
   "outputs": [
    {
     "data": {
      "text/html": [
       "<div>\n",
       "<style scoped>\n",
       "    .dataframe tbody tr th:only-of-type {\n",
       "        vertical-align: middle;\n",
       "    }\n",
       "\n",
       "    .dataframe tbody tr th {\n",
       "        vertical-align: top;\n",
       "    }\n",
       "\n",
       "    .dataframe thead th {\n",
       "        text-align: right;\n",
       "    }\n",
       "</style>\n",
       "<table border=\"1\" class=\"dataframe\">\n",
       "  <thead>\n",
       "    <tr style=\"text-align: right;\">\n",
       "      <th></th>\n",
       "      <th>SPY</th>\n",
       "      <th>LUV</th>\n",
       "      <th>DIS</th>\n",
       "      <th>AAPL</th>\n",
       "      <th>SBUX</th>\n",
       "      <th>ZM</th>\n",
       "    </tr>\n",
       "  </thead>\n",
       "  <tbody>\n",
       "    <tr>\n",
       "      <th>2019-05-01</th>\n",
       "      <td>291.84</td>\n",
       "      <td>53.89</td>\n",
       "      <td>136.32</td>\n",
       "      <td>210.52</td>\n",
       "      <td>77.51</td>\n",
       "      <td>72.55</td>\n",
       "    </tr>\n",
       "    <tr>\n",
       "      <th>2019-05-02</th>\n",
       "      <td>291.27</td>\n",
       "      <td>53.37</td>\n",
       "      <td>134.19</td>\n",
       "      <td>209.17</td>\n",
       "      <td>77.46</td>\n",
       "      <td>75.58</td>\n",
       "    </tr>\n",
       "    <tr>\n",
       "      <th>2019-05-03</th>\n",
       "      <td>294.02</td>\n",
       "      <td>53.62</td>\n",
       "      <td>134.28</td>\n",
       "      <td>211.78</td>\n",
       "      <td>78.06</td>\n",
       "      <td>79.10</td>\n",
       "    </tr>\n",
       "    <tr>\n",
       "      <th>2019-05-06</th>\n",
       "      <td>292.87</td>\n",
       "      <td>53.48</td>\n",
       "      <td>135.05</td>\n",
       "      <td>208.60</td>\n",
       "      <td>78.06</td>\n",
       "      <td>78.13</td>\n",
       "    </tr>\n",
       "    <tr>\n",
       "      <th>2019-05-07</th>\n",
       "      <td>288.04</td>\n",
       "      <td>52.20</td>\n",
       "      <td>133.47</td>\n",
       "      <td>202.86</td>\n",
       "      <td>77.96</td>\n",
       "      <td>73.32</td>\n",
       "    </tr>\n",
       "  </tbody>\n",
       "</table>\n",
       "</div>"
      ],
      "text/plain": [
       "               SPY    LUV     DIS    AAPL   SBUX     ZM\n",
       "2019-05-01  291.84  53.89  136.32  210.52  77.51  72.55\n",
       "2019-05-02  291.27  53.37  134.19  209.17  77.46  75.58\n",
       "2019-05-03  294.02  53.62  134.28  211.78  78.06  79.10\n",
       "2019-05-06  292.87  53.48  135.05  208.60  78.06  78.13\n",
       "2019-05-07  288.04  52.20  133.47  202.86  77.96  73.32"
      ]
     },
     "metadata": {},
     "output_type": "display_data"
    },
    {
     "data": {
      "text/html": [
       "<div>\n",
       "<style scoped>\n",
       "    .dataframe tbody tr th:only-of-type {\n",
       "        vertical-align: middle;\n",
       "    }\n",
       "\n",
       "    .dataframe tbody tr th {\n",
       "        vertical-align: top;\n",
       "    }\n",
       "\n",
       "    .dataframe thead th {\n",
       "        text-align: right;\n",
       "    }\n",
       "</style>\n",
       "<table border=\"1\" class=\"dataframe\">\n",
       "  <thead>\n",
       "    <tr style=\"text-align: right;\">\n",
       "      <th></th>\n",
       "      <th>SPY</th>\n",
       "      <th>LUV</th>\n",
       "      <th>DIS</th>\n",
       "      <th>AAPL</th>\n",
       "      <th>SBUX</th>\n",
       "      <th>ZM</th>\n",
       "    </tr>\n",
       "  </thead>\n",
       "  <tbody>\n",
       "    <tr>\n",
       "      <th>2020-04-27</th>\n",
       "      <td>287.11</td>\n",
       "      <td>29.105</td>\n",
       "      <td>106.03</td>\n",
       "      <td>283.25</td>\n",
       "      <td>77.7500</td>\n",
       "      <td>164.55</td>\n",
       "    </tr>\n",
       "    <tr>\n",
       "      <th>2020-04-28</th>\n",
       "      <td>285.77</td>\n",
       "      <td>29.720</td>\n",
       "      <td>106.24</td>\n",
       "      <td>278.57</td>\n",
       "      <td>78.6900</td>\n",
       "      <td>156.61</td>\n",
       "    </tr>\n",
       "    <tr>\n",
       "      <th>2020-04-29</th>\n",
       "      <td>293.19</td>\n",
       "      <td>30.970</td>\n",
       "      <td>112.31</td>\n",
       "      <td>287.83</td>\n",
       "      <td>76.9000</td>\n",
       "      <td>146.46</td>\n",
       "    </tr>\n",
       "    <tr>\n",
       "      <th>2020-04-30</th>\n",
       "      <td>290.39</td>\n",
       "      <td>31.240</td>\n",
       "      <td>108.05</td>\n",
       "      <td>293.99</td>\n",
       "      <td>76.7400</td>\n",
       "      <td>135.11</td>\n",
       "    </tr>\n",
       "    <tr>\n",
       "      <th>2020-05-01</th>\n",
       "      <td>282.73</td>\n",
       "      <td>29.230</td>\n",
       "      <td>105.50</td>\n",
       "      <td>289.07</td>\n",
       "      <td>73.7937</td>\n",
       "      <td>138.61</td>\n",
       "    </tr>\n",
       "  </tbody>\n",
       "</table>\n",
       "</div>"
      ],
      "text/plain": [
       "               SPY     LUV     DIS    AAPL     SBUX      ZM\n",
       "2020-04-27  287.11  29.105  106.03  283.25  77.7500  164.55\n",
       "2020-04-28  285.77  29.720  106.24  278.57  78.6900  156.61\n",
       "2020-04-29  293.19  30.970  112.31  287.83  76.9000  146.46\n",
       "2020-04-30  290.39  31.240  108.05  293.99  76.7400  135.11\n",
       "2020-05-01  282.73  29.230  105.50  289.07  73.7937  138.61"
      ]
     },
     "metadata": {},
     "output_type": "display_data"
    }
   ],
   "source": [
    "# Create an empty DataFrame for holding the closing prices\n",
    "closing_prices_df = pd.DataFrame()\n",
    "\n",
    "# Using a for loop, for every ticker in the tickers list, \n",
    "# Select the close price for each ticker in the prices_df Dataframe\n",
    "# That will be set equal to closing_prices_df for the same ticker value\n",
    "for ticker in tickers:\n",
    "    closing_prices_df[ticker] = prices_df[ticker][\"close\"]\n",
    "\n",
    "# For the new closing_prices_df DataFrame, keep only the date component\n",
    "closing_prices_df.index = closing_prices_df.index.date\n",
    "\n",
    "# View the first and last five rows of the closing_prices_df DataFrame\n",
    "display(closing_prices_df.head())\n",
    "display(closing_prices_df.tail())\n"
   ]
  },
  {
   "cell_type": "markdown",
   "metadata": {},
   "source": [
    "## Step 6: Generate a daily returns DataFrame that’s based on the closing prices of each stock."
   ]
  },
  {
   "cell_type": "code",
   "execution_count": 10,
   "metadata": {},
   "outputs": [
    {
     "data": {
      "text/html": [
       "<div>\n",
       "<style scoped>\n",
       "    .dataframe tbody tr th:only-of-type {\n",
       "        vertical-align: middle;\n",
       "    }\n",
       "\n",
       "    .dataframe tbody tr th {\n",
       "        vertical-align: top;\n",
       "    }\n",
       "\n",
       "    .dataframe thead th {\n",
       "        text-align: right;\n",
       "    }\n",
       "</style>\n",
       "<table border=\"1\" class=\"dataframe\">\n",
       "  <thead>\n",
       "    <tr style=\"text-align: right;\">\n",
       "      <th></th>\n",
       "      <th>SPY</th>\n",
       "      <th>LUV</th>\n",
       "      <th>DIS</th>\n",
       "      <th>AAPL</th>\n",
       "      <th>SBUX</th>\n",
       "      <th>ZM</th>\n",
       "    </tr>\n",
       "  </thead>\n",
       "  <tbody>\n",
       "    <tr>\n",
       "      <th>2019-05-02</th>\n",
       "      <td>-0.001953</td>\n",
       "      <td>-0.009649</td>\n",
       "      <td>-0.015625</td>\n",
       "      <td>-0.006413</td>\n",
       "      <td>-0.000645</td>\n",
       "      <td>0.041764</td>\n",
       "    </tr>\n",
       "    <tr>\n",
       "      <th>2019-05-03</th>\n",
       "      <td>0.009441</td>\n",
       "      <td>0.004684</td>\n",
       "      <td>0.000671</td>\n",
       "      <td>0.012478</td>\n",
       "      <td>0.007746</td>\n",
       "      <td>0.046573</td>\n",
       "    </tr>\n",
       "    <tr>\n",
       "      <th>2019-05-06</th>\n",
       "      <td>-0.003911</td>\n",
       "      <td>-0.002611</td>\n",
       "      <td>0.005734</td>\n",
       "      <td>-0.015016</td>\n",
       "      <td>0.000000</td>\n",
       "      <td>-0.012263</td>\n",
       "    </tr>\n",
       "    <tr>\n",
       "      <th>2019-05-07</th>\n",
       "      <td>-0.016492</td>\n",
       "      <td>-0.023934</td>\n",
       "      <td>-0.011699</td>\n",
       "      <td>-0.027517</td>\n",
       "      <td>-0.001281</td>\n",
       "      <td>-0.061564</td>\n",
       "    </tr>\n",
       "    <tr>\n",
       "      <th>2019-05-08</th>\n",
       "      <td>-0.001666</td>\n",
       "      <td>0.004406</td>\n",
       "      <td>0.010564</td>\n",
       "      <td>0.000197</td>\n",
       "      <td>0.001026</td>\n",
       "      <td>0.060284</td>\n",
       "    </tr>\n",
       "  </tbody>\n",
       "</table>\n",
       "</div>"
      ],
      "text/plain": [
       "                 SPY       LUV       DIS      AAPL      SBUX        ZM\n",
       "2019-05-02 -0.001953 -0.009649 -0.015625 -0.006413 -0.000645  0.041764\n",
       "2019-05-03  0.009441  0.004684  0.000671  0.012478  0.007746  0.046573\n",
       "2019-05-06 -0.003911 -0.002611  0.005734 -0.015016  0.000000 -0.012263\n",
       "2019-05-07 -0.016492 -0.023934 -0.011699 -0.027517 -0.001281 -0.061564\n",
       "2019-05-08 -0.001666  0.004406  0.010564  0.000197  0.001026  0.060284"
      ]
     },
     "metadata": {},
     "output_type": "display_data"
    },
    {
     "data": {
      "text/html": [
       "<div>\n",
       "<style scoped>\n",
       "    .dataframe tbody tr th:only-of-type {\n",
       "        vertical-align: middle;\n",
       "    }\n",
       "\n",
       "    .dataframe tbody tr th {\n",
       "        vertical-align: top;\n",
       "    }\n",
       "\n",
       "    .dataframe thead th {\n",
       "        text-align: right;\n",
       "    }\n",
       "</style>\n",
       "<table border=\"1\" class=\"dataframe\">\n",
       "  <thead>\n",
       "    <tr style=\"text-align: right;\">\n",
       "      <th></th>\n",
       "      <th>SPY</th>\n",
       "      <th>LUV</th>\n",
       "      <th>DIS</th>\n",
       "      <th>AAPL</th>\n",
       "      <th>SBUX</th>\n",
       "      <th>ZM</th>\n",
       "    </tr>\n",
       "  </thead>\n",
       "  <tbody>\n",
       "    <tr>\n",
       "      <th>2020-04-27</th>\n",
       "      <td>0.014380</td>\n",
       "      <td>-0.007671</td>\n",
       "      <td>0.048033</td>\n",
       "      <td>0.001060</td>\n",
       "      <td>0.028602</td>\n",
       "      <td>0.036535</td>\n",
       "    </tr>\n",
       "    <tr>\n",
       "      <th>2020-04-28</th>\n",
       "      <td>-0.004667</td>\n",
       "      <td>0.021130</td>\n",
       "      <td>0.001981</td>\n",
       "      <td>-0.016523</td>\n",
       "      <td>0.012090</td>\n",
       "      <td>-0.048253</td>\n",
       "    </tr>\n",
       "    <tr>\n",
       "      <th>2020-04-29</th>\n",
       "      <td>0.025965</td>\n",
       "      <td>0.042059</td>\n",
       "      <td>0.057135</td>\n",
       "      <td>0.033241</td>\n",
       "      <td>-0.022747</td>\n",
       "      <td>-0.064811</td>\n",
       "    </tr>\n",
       "    <tr>\n",
       "      <th>2020-04-30</th>\n",
       "      <td>-0.009550</td>\n",
       "      <td>0.008718</td>\n",
       "      <td>-0.037931</td>\n",
       "      <td>0.021402</td>\n",
       "      <td>-0.002081</td>\n",
       "      <td>-0.077496</td>\n",
       "    </tr>\n",
       "    <tr>\n",
       "      <th>2020-05-01</th>\n",
       "      <td>-0.026378</td>\n",
       "      <td>-0.064341</td>\n",
       "      <td>-0.023600</td>\n",
       "      <td>-0.016735</td>\n",
       "      <td>-0.038393</td>\n",
       "      <td>0.025905</td>\n",
       "    </tr>\n",
       "  </tbody>\n",
       "</table>\n",
       "</div>"
      ],
      "text/plain": [
       "                 SPY       LUV       DIS      AAPL      SBUX        ZM\n",
       "2020-04-27  0.014380 -0.007671  0.048033  0.001060  0.028602  0.036535\n",
       "2020-04-28 -0.004667  0.021130  0.001981 -0.016523  0.012090 -0.048253\n",
       "2020-04-29  0.025965  0.042059  0.057135  0.033241 -0.022747 -0.064811\n",
       "2020-04-30 -0.009550  0.008718 -0.037931  0.021402 -0.002081 -0.077496\n",
       "2020-05-01 -0.026378 -0.064341 -0.023600 -0.016735 -0.038393  0.025905"
      ]
     },
     "metadata": {},
     "output_type": "display_data"
    }
   ],
   "source": [
    "# Compute daily returns of the closing_prices_df DataFrame using the pct_change function \n",
    "# Be sure to drop the first row of NaN values\n",
    "daily_returns_df = closing_prices_df.pct_change().dropna()\n",
    "\n",
    "# Review the first and last five rows of the daily_returns_df DataFrame\n",
    "display(daily_returns_df.head())\n",
    "display(daily_returns_df.tail())\n"
   ]
  },
  {
   "cell_type": "markdown",
   "metadata": {},
   "source": [
    "## Step 7: Generate the summary statistics for the daily returns DataFrame. This provides your first review of the distribution information for your stocks."
   ]
  },
  {
   "cell_type": "code",
   "execution_count": 11,
   "metadata": {},
   "outputs": [
    {
     "data": {
      "text/html": [
       "<div>\n",
       "<style scoped>\n",
       "    .dataframe tbody tr th:only-of-type {\n",
       "        vertical-align: middle;\n",
       "    }\n",
       "\n",
       "    .dataframe tbody tr th {\n",
       "        vertical-align: top;\n",
       "    }\n",
       "\n",
       "    .dataframe thead th {\n",
       "        text-align: right;\n",
       "    }\n",
       "</style>\n",
       "<table border=\"1\" class=\"dataframe\">\n",
       "  <thead>\n",
       "    <tr style=\"text-align: right;\">\n",
       "      <th></th>\n",
       "      <th>SPY</th>\n",
       "      <th>LUV</th>\n",
       "      <th>DIS</th>\n",
       "      <th>AAPL</th>\n",
       "      <th>SBUX</th>\n",
       "      <th>ZM</th>\n",
       "    </tr>\n",
       "  </thead>\n",
       "  <tbody>\n",
       "    <tr>\n",
       "      <th>count</th>\n",
       "      <td>253.000000</td>\n",
       "      <td>253.000000</td>\n",
       "      <td>253.000000</td>\n",
       "      <td>253.000000</td>\n",
       "      <td>253.000000</td>\n",
       "      <td>253.000000</td>\n",
       "    </tr>\n",
       "    <tr>\n",
       "      <th>mean</th>\n",
       "      <td>0.000082</td>\n",
       "      <td>-0.001991</td>\n",
       "      <td>-0.000683</td>\n",
       "      <td>0.001589</td>\n",
       "      <td>0.000169</td>\n",
       "      <td>0.003503</td>\n",
       "    </tr>\n",
       "    <tr>\n",
       "      <th>std</th>\n",
       "      <td>0.020320</td>\n",
       "      <td>0.028888</td>\n",
       "      <td>0.025705</td>\n",
       "      <td>0.025865</td>\n",
       "      <td>0.026980</td>\n",
       "      <td>0.043823</td>\n",
       "    </tr>\n",
       "    <tr>\n",
       "      <th>min</th>\n",
       "      <td>-0.115916</td>\n",
       "      <td>-0.150895</td>\n",
       "      <td>-0.129846</td>\n",
       "      <td>-0.131590</td>\n",
       "      <td>-0.166167</td>\n",
       "      <td>-0.152639</td>\n",
       "    </tr>\n",
       "    <tr>\n",
       "      <th>25%</th>\n",
       "      <td>-0.004667</td>\n",
       "      <td>-0.008864</td>\n",
       "      <td>-0.009786</td>\n",
       "      <td>-0.009062</td>\n",
       "      <td>-0.010208</td>\n",
       "      <td>-0.017752</td>\n",
       "    </tr>\n",
       "    <tr>\n",
       "      <th>50%</th>\n",
       "      <td>0.000577</td>\n",
       "      <td>-0.000182</td>\n",
       "      <td>0.000272</td>\n",
       "      <td>0.001144</td>\n",
       "      <td>0.000846</td>\n",
       "      <td>0.000576</td>\n",
       "    </tr>\n",
       "    <tr>\n",
       "      <th>75%</th>\n",
       "      <td>0.006877</td>\n",
       "      <td>0.008981</td>\n",
       "      <td>0.008845</td>\n",
       "      <td>0.013612</td>\n",
       "      <td>0.009759</td>\n",
       "      <td>0.021420</td>\n",
       "    </tr>\n",
       "    <tr>\n",
       "      <th>max</th>\n",
       "      <td>0.094737</td>\n",
       "      <td>0.144441</td>\n",
       "      <td>0.142840</td>\n",
       "      <td>0.121210</td>\n",
       "      <td>0.148646</td>\n",
       "      <td>0.223619</td>\n",
       "    </tr>\n",
       "  </tbody>\n",
       "</table>\n",
       "</div>"
      ],
      "text/plain": [
       "              SPY         LUV         DIS        AAPL        SBUX          ZM\n",
       "count  253.000000  253.000000  253.000000  253.000000  253.000000  253.000000\n",
       "mean     0.000082   -0.001991   -0.000683    0.001589    0.000169    0.003503\n",
       "std      0.020320    0.028888    0.025705    0.025865    0.026980    0.043823\n",
       "min     -0.115916   -0.150895   -0.129846   -0.131590   -0.166167   -0.152639\n",
       "25%     -0.004667   -0.008864   -0.009786   -0.009062   -0.010208   -0.017752\n",
       "50%      0.000577   -0.000182    0.000272    0.001144    0.000846    0.000576\n",
       "75%      0.006877    0.008981    0.008845    0.013612    0.009759    0.021420\n",
       "max      0.094737    0.144441    0.142840    0.121210    0.148646    0.223619"
      ]
     },
     "execution_count": 11,
     "metadata": {},
     "output_type": "execute_result"
    }
   ],
   "source": [
    "# Using the Pandas describe function, generate summary statistics\n",
    "# for each of the tickers in the daily_returns_df DataFrame\n",
    "daily_returns_df.describe()\n"
   ]
  },
  {
   "cell_type": "markdown",
   "metadata": {},
   "source": [
    "## Step 8. Visualize the distribution of the daily returns DataFrame by creating a histogram plot and a density plot."
   ]
  },
  {
   "cell_type": "code",
   "execution_count": 12,
   "metadata": {},
   "outputs": [
    {
     "data": {
      "text/plain": [
       "<AxesSubplot:title={'center':'Daily Returns Histogram'}, ylabel='Frequency'>"
      ]
     },
     "execution_count": 12,
     "metadata": {},
     "output_type": "execute_result"
    },
    {
     "data": {
      "image/png": "[encoded data removed]",
      "text/plain": [
       "<Figure size 1080x720 with 1 Axes>"
      ]
     },
     "metadata": {
      "needs_background": "light"
     },
     "output_type": "display_data"
    }
   ],
   "source": [
    "# Visualize the distribution of daily returns across all stocks using a histogram plot\n",
    "# Give the plot a title and adjust the figure size\n",
    "daily_returns_df.plot(\n",
    "    kind=\"hist\",  \n",
    "    figsize=(15,10),\n",
    "    title=\"Daily Returns Histogram\"\n",
    ")\n"
   ]
  },
  {
   "cell_type": "code",
   "execution_count": 13,
   "metadata": {},
   "outputs": [
    {
     "data": {
      "text/plain": [
       "<AxesSubplot:title={'center':'Daily Returns Density Plot'}, ylabel='Density'>"
      ]
     },
     "execution_count": 13,
     "metadata": {},
     "output_type": "execute_result"
    },
    {
     "data": {
      "image/png": "[encoded data removed]",
      "text/plain": [
       "<Figure size 1080x720 with 1 Axes>"
      ]
     },
     "metadata": {
      "needs_background": "light"
     },
     "output_type": "display_data"
    }
   ],
   "source": [
    "# Visualize the distribution of daily returns across all stocks using a density plot\n",
    "# Give the plot a title and adjust the figure size\n",
    "daily_returns_df.plot.density(\n",
    "    figsize=(15,10), \n",
    "    title=\"Daily Returns Density Plot\"\n",
    ")\n"
   ]
  },
  {
   "cell_type": "markdown",
   "metadata": {},
   "source": [
    "## Reflect on the following question:"
   ]
  },
  {
   "cell_type": "markdown",
   "metadata": {},
   "source": [
    "**Question:** After analyzing the summary statistics, histogram, and density plot for the SPY, LUV, DIS, AAPL, SBUX, and ZM stocks, which do you think is the most volatile stock based on the daily return data? Which is the least volatile?\n",
    "    \n",
    "**Answer:** The most volatile stock is ZM, Zoom Video Communications. The least volatile stock is SPY, SPDR S&P 500 ETF Trust. "
   ]
  },
  {
   "cell_type": "code",
   "execution_count": null,
   "metadata": {},
   "outputs": [],
   "source": []
  }
 ],
 "metadata": {
  "kernel_info": {
   "name": "python3"
  },
  "kernelspec": {
   "display_name": "Python 3",
   "language": "python",
   "name": "python3"
  },
  "language_info": {
   "codemirror_mode": {
    "name": "ipython",
    "version": 3
   },
   "file_extension": ".py",
   "mimetype": "text/x-python",
   "name": "python",
   "nbconvert_exporter": "python",
   "pygments_lexer": "ipython3",
   "version": "3.7.10"
  },
  "nteract": {
   "version": "0.12.3"
  }
 },
 "nbformat": 4,
 "nbformat_minor": 4
}
